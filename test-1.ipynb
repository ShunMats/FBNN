{
 "cells": [
  {
   "cell_type": "code",
   "execution_count": 74,
   "metadata": {},
   "outputs": [],
   "source": [
    "import numpy as np\n",
    "import pandas as pd\n",
    "import matplotlib.pyplot as plt\n",
    "import importlib\n",
    "\n",
    "import FBNN2d\n",
    "importlib.reload(FBNN2d)\n",
    "from FBNN2d import *"
   ]
  },
  {
   "cell_type": "code",
   "execution_count": 9,
   "metadata": {},
   "outputs": [
    {
     "name": "stdout",
     "output_type": "stream",
     "text": [
      "[3.14367631e-17 1.89337190e-05 9.98377148e-01 1.60391787e-03\n",
      " 1.37286498e-13 5.35202827e-30 3.37403769e-51 3.75663247e-75\n",
      " 0.00000000e+00 0.00000000e+00 0.00000000e+00 0.00000000e+00\n",
      " 0.00000000e+00 0.00000000e+00 0.00000000e+00 0.00000000e+00\n",
      " 0.00000000e+00 0.00000000e+00 6.19267506e-57 5.97129986e-35]\n",
      "[ 7.56196031  1.28054827  5.94737326 16.11399323 15.21587253]\n"
     ]
    }
   ],
   "source": [
    "(x_train,y_train) = gene_data(hist_gene_int,Sig_lim=20,mu_lim=20,gene_size=500,multi=100)\n",
    "test_data=[gene_data(hist_gene_int,Sig_lim=20,mu_lim=20,gene_size=20,multi=100) for _ in range(5)]\n",
    "\n",
    "print(x_train[0])\n",
    "print(y_train[0])"
   ]
  },
  {
   "cell_type": "markdown",
   "metadata": {},
   "source": [
    "# 隠れ層の数とノード数"
   ]
  },
  {
   "cell_type": "code",
   "execution_count": 10,
   "metadata": {},
   "outputs": [
    {
     "name": "stdout",
     "output_type": "stream",
     "text": [
      "\n",
      "layer: 1 \n",
      "hidden: 50 100 150 200 250 300 350 400 450 500 550 600 650 700 750 800 850 900 950 1000 1050 1100 1150 1200 1250 1300 1350 1400 1450 1500 \n",
      "layer: 2 \n",
      "hidden: 50 100 150 200 250 300 350 400 450 500 550 600 650 700 750 800 850 900 950 1000 1050 1100 1150 1200 1250 1300 1350 1400 1450 1500 \n",
      "layer: 3 \n",
      "hidden: 50 100 150 200 250 300 350 400 450 500 550 600 650 700 750 800 850 900 950 1000 1050 1100 1150 1200 1250 1300 1350 1400 1450 1500 \n",
      "layer: 4 \n",
      "hidden: 50 100 150 200 250 300 350 400 450 500 550 600 650 700 750 800 850 900 950 1000 1050 1100 1150 1200 1250 1300 1350 1400 1450 1500 \n",
      "layer: 5 \n",
      "hidden: 50 100 150 200 250 300 350 400 450 500 550 600 650 700 750 800 850 900 950 1000 1050 1100 1150 1200 1250 1300 1350 1400 1450 1500 \n",
      "layer: 6 \n",
      "hidden: 50 100 150 200 250 300 350 400 450 500 550 600 650 700 750 800 850 900 950 1000 1050 1100 1150 1200 1250 1300 1350 1400 1450 1500 \n",
      "layer: 7 \n",
      "hidden: 50 100 150 200 250 300 350 400 450 500 550 600 650 700 750 800 850 900 950 1000 1050 1100 1150 1200 1250 1300 1350 1400 1450 1500 \n",
      "layer: 8 \n",
      "hidden: 50 100 150 200 250 300 350 400 450 500 550 600 650 700 750 800 850 900 950 1000 1050 1100 1150 1200 1250 1300 1350 1400 1450 1500 \n",
      "layer: 9 \n",
      "hidden: 50 100 150 200 250 300 350 400 450 500 550 600 650 700 750 800 850 900 950 1000 1050 1100 1150 1200 1250 1300 1350 1400 1450 1500 \n",
      "layer: 10 \n",
      "hidden: 50 100 150 200 250 300 350 400 450 500 550 600 650 700 750 800 850 900 950 1000 1050 1100 1150 1200 1250 1300 1350 1400 1450 1500 "
     ]
    }
   ],
   "source": [
    "layers=range(1,11)\n",
    "hiddens=range(50,1501,50)\n",
    "res=[]\n",
    "for layer in layers:\n",
    "    print('\\nlayer:',layer,'\\nhidden:',end=\" \")\n",
    "    for hidden in hiddens:\n",
    "        model=set_model(n_hidden=hidden,n_layer=layer,print_summary=False)\n",
    "        model.fit(x_train, y_train, verbose=0, epochs=10, shuffle=True, validation_split=0.2\n",
    "                    # ,batch_size=30,validation_data=(x_test, y_test)\n",
    "                    )\n",
    "        scores = [model.evaluate(x_test, y_test, verbose=0) for (x_test, y_test) in test_data]\n",
    "        print(hidden, end=\" \")\n",
    "        score = np.mean(scores,axis=0)\n",
    "        res.append([layer,hidden,score[0],score[1]])"
   ]
  },
  {
   "cell_type": "code",
   "execution_count": 11,
   "metadata": {},
   "outputs": [
    {
     "data": {
      "text/html": [
       "<div>\n",
       "<style scoped>\n",
       "    .dataframe tbody tr th:only-of-type {\n",
       "        vertical-align: middle;\n",
       "    }\n",
       "\n",
       "    .dataframe tbody tr th {\n",
       "        vertical-align: top;\n",
       "    }\n",
       "\n",
       "    .dataframe thead th {\n",
       "        text-align: right;\n",
       "    }\n",
       "</style>\n",
       "<table border=\"1\" class=\"dataframe\">\n",
       "  <thead>\n",
       "    <tr style=\"text-align: right;\">\n",
       "      <th></th>\n",
       "      <th>layer</th>\n",
       "      <th>hidden</th>\n",
       "      <th>loss(mse)</th>\n",
       "      <th>mae</th>\n",
       "    </tr>\n",
       "  </thead>\n",
       "  <tbody>\n",
       "    <tr>\n",
       "      <th>82</th>\n",
       "      <td>3</td>\n",
       "      <td>1150</td>\n",
       "      <td>19.153015</td>\n",
       "      <td>3.514218</td>\n",
       "    </tr>\n",
       "    <tr>\n",
       "      <th>148</th>\n",
       "      <td>5</td>\n",
       "      <td>1450</td>\n",
       "      <td>19.163619</td>\n",
       "      <td>3.500349</td>\n",
       "    </tr>\n",
       "    <tr>\n",
       "      <th>80</th>\n",
       "      <td>3</td>\n",
       "      <td>1050</td>\n",
       "      <td>19.227227</td>\n",
       "      <td>3.523944</td>\n",
       "    </tr>\n",
       "    <tr>\n",
       "      <th>138</th>\n",
       "      <td>5</td>\n",
       "      <td>950</td>\n",
       "      <td>19.382572</td>\n",
       "      <td>3.525201</td>\n",
       "    </tr>\n",
       "    <tr>\n",
       "      <th>83</th>\n",
       "      <td>3</td>\n",
       "      <td>1200</td>\n",
       "      <td>19.398148</td>\n",
       "      <td>3.527548</td>\n",
       "    </tr>\n",
       "    <tr>\n",
       "      <th>...</th>\n",
       "      <td>...</td>\n",
       "      <td>...</td>\n",
       "      <td>...</td>\n",
       "      <td>...</td>\n",
       "    </tr>\n",
       "    <tr>\n",
       "      <th>273</th>\n",
       "      <td>10</td>\n",
       "      <td>200</td>\n",
       "      <td>68.995598</td>\n",
       "      <td>6.295108</td>\n",
       "    </tr>\n",
       "    <tr>\n",
       "      <th>270</th>\n",
       "      <td>10</td>\n",
       "      <td>50</td>\n",
       "      <td>69.091547</td>\n",
       "      <td>6.296221</td>\n",
       "    </tr>\n",
       "    <tr>\n",
       "      <th>2</th>\n",
       "      <td>1</td>\n",
       "      <td>150</td>\n",
       "      <td>70.465721</td>\n",
       "      <td>6.549239</td>\n",
       "    </tr>\n",
       "    <tr>\n",
       "      <th>1</th>\n",
       "      <td>1</td>\n",
       "      <td>100</td>\n",
       "      <td>80.809923</td>\n",
       "      <td>7.140005</td>\n",
       "    </tr>\n",
       "    <tr>\n",
       "      <th>0</th>\n",
       "      <td>1</td>\n",
       "      <td>50</td>\n",
       "      <td>87.209769</td>\n",
       "      <td>7.522264</td>\n",
       "    </tr>\n",
       "  </tbody>\n",
       "</table>\n",
       "<p>300 rows × 4 columns</p>\n",
       "</div>"
      ],
      "text/plain": [
       "     layer  hidden  loss(mse)       mae\n",
       "82       3    1150  19.153015  3.514218\n",
       "148      5    1450  19.163619  3.500349\n",
       "80       3    1050  19.227227  3.523944\n",
       "138      5     950  19.382572  3.525201\n",
       "83       3    1200  19.398148  3.527548\n",
       "..     ...     ...        ...       ...\n",
       "273     10     200  68.995598  6.295108\n",
       "270     10      50  69.091547  6.296221\n",
       "2        1     150  70.465721  6.549239\n",
       "1        1     100  80.809923  7.140005\n",
       "0        1      50  87.209769  7.522264\n",
       "\n",
       "[300 rows x 4 columns]"
      ]
     },
     "metadata": {},
     "output_type": "display_data"
    },
    {
     "data": {
      "text/html": [
       "<div>\n",
       "<style scoped>\n",
       "    .dataframe tbody tr th:only-of-type {\n",
       "        vertical-align: middle;\n",
       "    }\n",
       "\n",
       "    .dataframe tbody tr th {\n",
       "        vertical-align: top;\n",
       "    }\n",
       "\n",
       "    .dataframe thead th {\n",
       "        text-align: right;\n",
       "    }\n",
       "</style>\n",
       "<table border=\"1\" class=\"dataframe\">\n",
       "  <thead>\n",
       "    <tr style=\"text-align: right;\">\n",
       "      <th></th>\n",
       "      <th>layer</th>\n",
       "      <th>hidden</th>\n",
       "      <th>loss(mse)</th>\n",
       "      <th>mae</th>\n",
       "    </tr>\n",
       "  </thead>\n",
       "  <tbody>\n",
       "    <tr>\n",
       "      <th>148</th>\n",
       "      <td>5</td>\n",
       "      <td>1450</td>\n",
       "      <td>19.163619</td>\n",
       "      <td>3.500349</td>\n",
       "    </tr>\n",
       "    <tr>\n",
       "      <th>82</th>\n",
       "      <td>3</td>\n",
       "      <td>1150</td>\n",
       "      <td>19.153015</td>\n",
       "      <td>3.514218</td>\n",
       "    </tr>\n",
       "    <tr>\n",
       "      <th>110</th>\n",
       "      <td>4</td>\n",
       "      <td>1050</td>\n",
       "      <td>19.398744</td>\n",
       "      <td>3.518525</td>\n",
       "    </tr>\n",
       "    <tr>\n",
       "      <th>104</th>\n",
       "      <td>4</td>\n",
       "      <td>750</td>\n",
       "      <td>19.847998</td>\n",
       "      <td>3.521325</td>\n",
       "    </tr>\n",
       "    <tr>\n",
       "      <th>80</th>\n",
       "      <td>3</td>\n",
       "      <td>1050</td>\n",
       "      <td>19.227227</td>\n",
       "      <td>3.523944</td>\n",
       "    </tr>\n",
       "    <tr>\n",
       "      <th>...</th>\n",
       "      <td>...</td>\n",
       "      <td>...</td>\n",
       "      <td>...</td>\n",
       "      <td>...</td>\n",
       "    </tr>\n",
       "    <tr>\n",
       "      <th>273</th>\n",
       "      <td>10</td>\n",
       "      <td>200</td>\n",
       "      <td>68.995598</td>\n",
       "      <td>6.295108</td>\n",
       "    </tr>\n",
       "    <tr>\n",
       "      <th>270</th>\n",
       "      <td>10</td>\n",
       "      <td>50</td>\n",
       "      <td>69.091547</td>\n",
       "      <td>6.296221</td>\n",
       "    </tr>\n",
       "    <tr>\n",
       "      <th>2</th>\n",
       "      <td>1</td>\n",
       "      <td>150</td>\n",
       "      <td>70.465721</td>\n",
       "      <td>6.549239</td>\n",
       "    </tr>\n",
       "    <tr>\n",
       "      <th>1</th>\n",
       "      <td>1</td>\n",
       "      <td>100</td>\n",
       "      <td>80.809923</td>\n",
       "      <td>7.140005</td>\n",
       "    </tr>\n",
       "    <tr>\n",
       "      <th>0</th>\n",
       "      <td>1</td>\n",
       "      <td>50</td>\n",
       "      <td>87.209769</td>\n",
       "      <td>7.522264</td>\n",
       "    </tr>\n",
       "  </tbody>\n",
       "</table>\n",
       "<p>300 rows × 4 columns</p>\n",
       "</div>"
      ],
      "text/plain": [
       "     layer  hidden  loss(mse)       mae\n",
       "148      5    1450  19.163619  3.500349\n",
       "82       3    1150  19.153015  3.514218\n",
       "110      4    1050  19.398744  3.518525\n",
       "104      4     750  19.847998  3.521325\n",
       "80       3    1050  19.227227  3.523944\n",
       "..     ...     ...        ...       ...\n",
       "273     10     200  68.995598  6.295108\n",
       "270     10      50  69.091547  6.296221\n",
       "2        1     150  70.465721  6.549239\n",
       "1        1     100  80.809923  7.140005\n",
       "0        1      50  87.209769  7.522264\n",
       "\n",
       "[300 rows x 4 columns]"
      ]
     },
     "metadata": {},
     "output_type": "display_data"
    }
   ],
   "source": [
    "data1 = pd.DataFrame(res, columns=[\"layer\",\"hidden\",\"loss(mse)\",\"mae\"])\n",
    "display(data1.sort_values(\"loss(mse)\"))\n",
    "display(data1.sort_values(\"mae\"))"
   ]
  },
  {
   "cell_type": "code",
   "execution_count": 15,
   "metadata": {},
   "outputs": [
    {
     "name": "stdout",
     "output_type": "stream",
     "text": [
      "3 1150\n"
     ]
    }
   ],
   "source": [
    "layer,hidden = 3,1150\n",
    "print(layer,hidden)"
   ]
  },
  {
   "cell_type": "markdown",
   "metadata": {},
   "source": [
    "# batchサイズ"
   ]
  },
  {
   "cell_type": "code",
   "execution_count": 20,
   "metadata": {},
   "outputs": [
    {
     "name": "stdout",
     "output_type": "stream",
     "text": [
      "batch_size: 1 2 3 4 5 6 7 8 9 10 11 12 13 14 15 16 17 18 19 20 21 22 23 24 25 26 27 28 29 30 31 32 33 34 35 36 37 38 39 40 41 42 43 44 45 46 47 48 49 50 51 52 53 54 55 56 57 58 59 60 61 62 63 64 65 66 67 68 69 70 71 72 73 74 75 76 77 78 79 80 81 82 83 84 85 86 87 88 89 90 91 92 93 94 95 96 97 98 99 100 "
     ]
    }
   ],
   "source": [
    "res=[]\n",
    "print(\"batch_size:\",end=\" \")\n",
    "for batch_size in range(1, 101):\n",
    "    model=set_model(n_hidden=hidden,n_layer=layer,print_summary=False)\n",
    "    model.fit(x_train, y_train, verbose=0, epochs=10, batch_size=batch_size,\n",
    "                shuffle=True, validation_split=0.2\n",
    "                )\n",
    "    scores = [model.evaluate(x_test, y_test, verbose=0) for (x_test, y_test) in test_data]\n",
    "    print(batch_size, end=\" \")\n",
    "    score = np.mean(scores,axis=0)\n",
    "    res.append([batch_size,score[0],score[1]])"
   ]
  },
  {
   "cell_type": "code",
   "execution_count": 21,
   "metadata": {},
   "outputs": [
    {
     "data": {
      "text/html": [
       "<div>\n",
       "<style scoped>\n",
       "    .dataframe tbody tr th:only-of-type {\n",
       "        vertical-align: middle;\n",
       "    }\n",
       "\n",
       "    .dataframe tbody tr th {\n",
       "        vertical-align: top;\n",
       "    }\n",
       "\n",
       "    .dataframe thead th {\n",
       "        text-align: right;\n",
       "    }\n",
       "</style>\n",
       "<table border=\"1\" class=\"dataframe\">\n",
       "  <thead>\n",
       "    <tr style=\"text-align: right;\">\n",
       "      <th></th>\n",
       "      <th>batch_size</th>\n",
       "      <th>loss(mse)</th>\n",
       "      <th>mae</th>\n",
       "    </tr>\n",
       "  </thead>\n",
       "  <tbody>\n",
       "    <tr>\n",
       "      <th>16</th>\n",
       "      <td>17</td>\n",
       "      <td>19.110660</td>\n",
       "      <td>3.498398</td>\n",
       "    </tr>\n",
       "    <tr>\n",
       "      <th>11</th>\n",
       "      <td>12</td>\n",
       "      <td>19.318497</td>\n",
       "      <td>3.497627</td>\n",
       "    </tr>\n",
       "    <tr>\n",
       "      <th>31</th>\n",
       "      <td>32</td>\n",
       "      <td>19.347681</td>\n",
       "      <td>3.526247</td>\n",
       "    </tr>\n",
       "    <tr>\n",
       "      <th>40</th>\n",
       "      <td>41</td>\n",
       "      <td>19.393893</td>\n",
       "      <td>3.527093</td>\n",
       "    </tr>\n",
       "    <tr>\n",
       "      <th>57</th>\n",
       "      <td>58</td>\n",
       "      <td>19.399874</td>\n",
       "      <td>3.531454</td>\n",
       "    </tr>\n",
       "    <tr>\n",
       "      <th>...</th>\n",
       "      <td>...</td>\n",
       "      <td>...</td>\n",
       "      <td>...</td>\n",
       "    </tr>\n",
       "    <tr>\n",
       "      <th>10</th>\n",
       "      <td>11</td>\n",
       "      <td>21.543625</td>\n",
       "      <td>3.668656</td>\n",
       "    </tr>\n",
       "    <tr>\n",
       "      <th>56</th>\n",
       "      <td>57</td>\n",
       "      <td>21.602566</td>\n",
       "      <td>3.725118</td>\n",
       "    </tr>\n",
       "    <tr>\n",
       "      <th>0</th>\n",
       "      <td>1</td>\n",
       "      <td>21.629780</td>\n",
       "      <td>3.668628</td>\n",
       "    </tr>\n",
       "    <tr>\n",
       "      <th>98</th>\n",
       "      <td>99</td>\n",
       "      <td>22.087145</td>\n",
       "      <td>3.767265</td>\n",
       "    </tr>\n",
       "    <tr>\n",
       "      <th>3</th>\n",
       "      <td>4</td>\n",
       "      <td>22.785352</td>\n",
       "      <td>3.759468</td>\n",
       "    </tr>\n",
       "  </tbody>\n",
       "</table>\n",
       "<p>100 rows × 3 columns</p>\n",
       "</div>"
      ],
      "text/plain": [
       "    batch_size  loss(mse)       mae\n",
       "16          17  19.110660  3.498398\n",
       "11          12  19.318497  3.497627\n",
       "31          32  19.347681  3.526247\n",
       "40          41  19.393893  3.527093\n",
       "57          58  19.399874  3.531454\n",
       "..         ...        ...       ...\n",
       "10          11  21.543625  3.668656\n",
       "56          57  21.602566  3.725118\n",
       "0            1  21.629780  3.668628\n",
       "98          99  22.087145  3.767265\n",
       "3            4  22.785352  3.759468\n",
       "\n",
       "[100 rows x 3 columns]"
      ]
     },
     "metadata": {},
     "output_type": "display_data"
    },
    {
     "data": {
      "text/html": [
       "<div>\n",
       "<style scoped>\n",
       "    .dataframe tbody tr th:only-of-type {\n",
       "        vertical-align: middle;\n",
       "    }\n",
       "\n",
       "    .dataframe tbody tr th {\n",
       "        vertical-align: top;\n",
       "    }\n",
       "\n",
       "    .dataframe thead th {\n",
       "        text-align: right;\n",
       "    }\n",
       "</style>\n",
       "<table border=\"1\" class=\"dataframe\">\n",
       "  <thead>\n",
       "    <tr style=\"text-align: right;\">\n",
       "      <th></th>\n",
       "      <th>batch_size</th>\n",
       "      <th>loss(mse)</th>\n",
       "      <th>mae</th>\n",
       "    </tr>\n",
       "  </thead>\n",
       "  <tbody>\n",
       "    <tr>\n",
       "      <th>11</th>\n",
       "      <td>12</td>\n",
       "      <td>19.318497</td>\n",
       "      <td>3.497627</td>\n",
       "    </tr>\n",
       "    <tr>\n",
       "      <th>16</th>\n",
       "      <td>17</td>\n",
       "      <td>19.110660</td>\n",
       "      <td>3.498398</td>\n",
       "    </tr>\n",
       "    <tr>\n",
       "      <th>21</th>\n",
       "      <td>22</td>\n",
       "      <td>19.776259</td>\n",
       "      <td>3.521196</td>\n",
       "    </tr>\n",
       "    <tr>\n",
       "      <th>17</th>\n",
       "      <td>18</td>\n",
       "      <td>19.737078</td>\n",
       "      <td>3.523619</td>\n",
       "    </tr>\n",
       "    <tr>\n",
       "      <th>31</th>\n",
       "      <td>32</td>\n",
       "      <td>19.347681</td>\n",
       "      <td>3.526247</td>\n",
       "    </tr>\n",
       "    <tr>\n",
       "      <th>...</th>\n",
       "      <td>...</td>\n",
       "      <td>...</td>\n",
       "      <td>...</td>\n",
       "    </tr>\n",
       "    <tr>\n",
       "      <th>13</th>\n",
       "      <td>14</td>\n",
       "      <td>21.477698</td>\n",
       "      <td>3.692112</td>\n",
       "    </tr>\n",
       "    <tr>\n",
       "      <th>97</th>\n",
       "      <td>98</td>\n",
       "      <td>21.451029</td>\n",
       "      <td>3.714181</td>\n",
       "    </tr>\n",
       "    <tr>\n",
       "      <th>56</th>\n",
       "      <td>57</td>\n",
       "      <td>21.602566</td>\n",
       "      <td>3.725118</td>\n",
       "    </tr>\n",
       "    <tr>\n",
       "      <th>3</th>\n",
       "      <td>4</td>\n",
       "      <td>22.785352</td>\n",
       "      <td>3.759468</td>\n",
       "    </tr>\n",
       "    <tr>\n",
       "      <th>98</th>\n",
       "      <td>99</td>\n",
       "      <td>22.087145</td>\n",
       "      <td>3.767265</td>\n",
       "    </tr>\n",
       "  </tbody>\n",
       "</table>\n",
       "<p>100 rows × 3 columns</p>\n",
       "</div>"
      ],
      "text/plain": [
       "    batch_size  loss(mse)       mae\n",
       "11          12  19.318497  3.497627\n",
       "16          17  19.110660  3.498398\n",
       "21          22  19.776259  3.521196\n",
       "17          18  19.737078  3.523619\n",
       "31          32  19.347681  3.526247\n",
       "..         ...        ...       ...\n",
       "13          14  21.477698  3.692112\n",
       "97          98  21.451029  3.714181\n",
       "56          57  21.602566  3.725118\n",
       "3            4  22.785352  3.759468\n",
       "98          99  22.087145  3.767265\n",
       "\n",
       "[100 rows x 3 columns]"
      ]
     },
     "metadata": {},
     "output_type": "display_data"
    }
   ],
   "source": [
    "data2 = pd.DataFrame(res, columns=[\"batch_size\",\"loss(mse)\",\"mae\"])\n",
    "display(data2.sort_values(\"loss(mse)\"))\n",
    "display(data2.sort_values(\"mae\"))"
   ]
  },
  {
   "cell_type": "code",
   "execution_count": 22,
   "metadata": {},
   "outputs": [],
   "source": [
    "batch_size=17\n",
    "# デフォルトは32"
   ]
  },
  {
   "cell_type": "markdown",
   "metadata": {},
   "source": [
    "# epochs"
   ]
  },
  {
   "cell_type": "code",
   "execution_count": 24,
   "metadata": {},
   "outputs": [
    {
     "name": "stdout",
     "output_type": "stream",
     "text": [
      "epochs: 1 2 3 4 5 6 7 8 9 10 11 12 13 14 15 16 17 18 19 20 \n",
      "21 22 23 24 25 26 27 28 29 30 31 32 33 34 35 36 37 38 39 40 \n",
      "41 42 43 44 45 46 47 48 49 50 51 52 53 54 55 56 57 58 59 60 \n",
      "61 62 63 64 65 66 67 68 69 70 71 72 73 74 75 76 77 78 79 80 \n",
      "81 82 83 84 85 86 87 88 89 90 91 92 93 94 95 96 97 98 99 100 \n"
     ]
    }
   ],
   "source": [
    "res=[]\n",
    "print(\"epochs:\",end=\" \")\n",
    "for epochs in range(1, 101):\n",
    "    model=set_model(n_hidden=hidden,n_layer=layer,print_summary=False)\n",
    "    model.fit(x_train, y_train, verbose=0, epochs=epochs, batch_size=batch_size,\n",
    "                shuffle=True, validation_split=0.2\n",
    "                )\n",
    "    scores = [model.evaluate(x_test, y_test, verbose=0) for (x_test, y_test) in test_data]\n",
    "    print(epochs, end=\" \")\n",
    "    if(epochs%20==0): print(\"\")\n",
    "    score = np.mean(scores,axis=0)\n",
    "    res.append([epochs,score[0],score[1]])"
   ]
  },
  {
   "cell_type": "code",
   "execution_count": 25,
   "metadata": {},
   "outputs": [
    {
     "data": {
      "text/html": [
       "<div>\n",
       "<style scoped>\n",
       "    .dataframe tbody tr th:only-of-type {\n",
       "        vertical-align: middle;\n",
       "    }\n",
       "\n",
       "    .dataframe tbody tr th {\n",
       "        vertical-align: top;\n",
       "    }\n",
       "\n",
       "    .dataframe thead th {\n",
       "        text-align: right;\n",
       "    }\n",
       "</style>\n",
       "<table border=\"1\" class=\"dataframe\">\n",
       "  <thead>\n",
       "    <tr style=\"text-align: right;\">\n",
       "      <th></th>\n",
       "      <th>epochs</th>\n",
       "      <th>loss(mse)</th>\n",
       "      <th>mae</th>\n",
       "    </tr>\n",
       "  </thead>\n",
       "  <tbody>\n",
       "    <tr>\n",
       "      <th>21</th>\n",
       "      <td>22</td>\n",
       "      <td>19.350459</td>\n",
       "      <td>3.523771</td>\n",
       "    </tr>\n",
       "    <tr>\n",
       "      <th>26</th>\n",
       "      <td>27</td>\n",
       "      <td>19.429291</td>\n",
       "      <td>3.485970</td>\n",
       "    </tr>\n",
       "    <tr>\n",
       "      <th>29</th>\n",
       "      <td>30</td>\n",
       "      <td>19.526348</td>\n",
       "      <td>3.510026</td>\n",
       "    </tr>\n",
       "    <tr>\n",
       "      <th>14</th>\n",
       "      <td>15</td>\n",
       "      <td>19.567170</td>\n",
       "      <td>3.542474</td>\n",
       "    </tr>\n",
       "    <tr>\n",
       "      <th>11</th>\n",
       "      <td>12</td>\n",
       "      <td>19.619846</td>\n",
       "      <td>3.538698</td>\n",
       "    </tr>\n",
       "    <tr>\n",
       "      <th>...</th>\n",
       "      <td>...</td>\n",
       "      <td>...</td>\n",
       "      <td>...</td>\n",
       "    </tr>\n",
       "    <tr>\n",
       "      <th>97</th>\n",
       "      <td>98</td>\n",
       "      <td>21.430442</td>\n",
       "      <td>3.678829</td>\n",
       "    </tr>\n",
       "    <tr>\n",
       "      <th>98</th>\n",
       "      <td>99</td>\n",
       "      <td>21.531942</td>\n",
       "      <td>3.681090</td>\n",
       "    </tr>\n",
       "    <tr>\n",
       "      <th>93</th>\n",
       "      <td>94</td>\n",
       "      <td>21.535100</td>\n",
       "      <td>3.682568</td>\n",
       "    </tr>\n",
       "    <tr>\n",
       "      <th>95</th>\n",
       "      <td>96</td>\n",
       "      <td>21.672686</td>\n",
       "      <td>3.676986</td>\n",
       "    </tr>\n",
       "    <tr>\n",
       "      <th>0</th>\n",
       "      <td>1</td>\n",
       "      <td>44.148099</td>\n",
       "      <td>5.035575</td>\n",
       "    </tr>\n",
       "  </tbody>\n",
       "</table>\n",
       "<p>100 rows × 3 columns</p>\n",
       "</div>"
      ],
      "text/plain": [
       "    epochs  loss(mse)       mae\n",
       "21      22  19.350459  3.523771\n",
       "26      27  19.429291  3.485970\n",
       "29      30  19.526348  3.510026\n",
       "14      15  19.567170  3.542474\n",
       "11      12  19.619846  3.538698\n",
       "..     ...        ...       ...\n",
       "97      98  21.430442  3.678829\n",
       "98      99  21.531942  3.681090\n",
       "93      94  21.535100  3.682568\n",
       "95      96  21.672686  3.676986\n",
       "0        1  44.148099  5.035575\n",
       "\n",
       "[100 rows x 3 columns]"
      ]
     },
     "metadata": {},
     "output_type": "display_data"
    },
    {
     "data": {
      "text/html": [
       "<div>\n",
       "<style scoped>\n",
       "    .dataframe tbody tr th:only-of-type {\n",
       "        vertical-align: middle;\n",
       "    }\n",
       "\n",
       "    .dataframe tbody tr th {\n",
       "        vertical-align: top;\n",
       "    }\n",
       "\n",
       "    .dataframe thead th {\n",
       "        text-align: right;\n",
       "    }\n",
       "</style>\n",
       "<table border=\"1\" class=\"dataframe\">\n",
       "  <thead>\n",
       "    <tr style=\"text-align: right;\">\n",
       "      <th></th>\n",
       "      <th>epochs</th>\n",
       "      <th>loss(mse)</th>\n",
       "      <th>mae</th>\n",
       "    </tr>\n",
       "  </thead>\n",
       "  <tbody>\n",
       "    <tr>\n",
       "      <th>26</th>\n",
       "      <td>27</td>\n",
       "      <td>19.429291</td>\n",
       "      <td>3.485970</td>\n",
       "    </tr>\n",
       "    <tr>\n",
       "      <th>29</th>\n",
       "      <td>30</td>\n",
       "      <td>19.526348</td>\n",
       "      <td>3.510026</td>\n",
       "    </tr>\n",
       "    <tr>\n",
       "      <th>39</th>\n",
       "      <td>40</td>\n",
       "      <td>20.027836</td>\n",
       "      <td>3.523714</td>\n",
       "    </tr>\n",
       "    <tr>\n",
       "      <th>21</th>\n",
       "      <td>22</td>\n",
       "      <td>19.350459</td>\n",
       "      <td>3.523771</td>\n",
       "    </tr>\n",
       "    <tr>\n",
       "      <th>19</th>\n",
       "      <td>20</td>\n",
       "      <td>19.691717</td>\n",
       "      <td>3.524735</td>\n",
       "    </tr>\n",
       "    <tr>\n",
       "      <th>...</th>\n",
       "      <td>...</td>\n",
       "      <td>...</td>\n",
       "      <td>...</td>\n",
       "    </tr>\n",
       "    <tr>\n",
       "      <th>97</th>\n",
       "      <td>98</td>\n",
       "      <td>21.430442</td>\n",
       "      <td>3.678829</td>\n",
       "    </tr>\n",
       "    <tr>\n",
       "      <th>98</th>\n",
       "      <td>99</td>\n",
       "      <td>21.531942</td>\n",
       "      <td>3.681090</td>\n",
       "    </tr>\n",
       "    <tr>\n",
       "      <th>93</th>\n",
       "      <td>94</td>\n",
       "      <td>21.535100</td>\n",
       "      <td>3.682568</td>\n",
       "    </tr>\n",
       "    <tr>\n",
       "      <th>66</th>\n",
       "      <td>67</td>\n",
       "      <td>21.177123</td>\n",
       "      <td>3.685192</td>\n",
       "    </tr>\n",
       "    <tr>\n",
       "      <th>0</th>\n",
       "      <td>1</td>\n",
       "      <td>44.148099</td>\n",
       "      <td>5.035575</td>\n",
       "    </tr>\n",
       "  </tbody>\n",
       "</table>\n",
       "<p>100 rows × 3 columns</p>\n",
       "</div>"
      ],
      "text/plain": [
       "    epochs  loss(mse)       mae\n",
       "26      27  19.429291  3.485970\n",
       "29      30  19.526348  3.510026\n",
       "39      40  20.027836  3.523714\n",
       "21      22  19.350459  3.523771\n",
       "19      20  19.691717  3.524735\n",
       "..     ...        ...       ...\n",
       "97      98  21.430442  3.678829\n",
       "98      99  21.531942  3.681090\n",
       "93      94  21.535100  3.682568\n",
       "66      67  21.177123  3.685192\n",
       "0        1  44.148099  5.035575\n",
       "\n",
       "[100 rows x 3 columns]"
      ]
     },
     "metadata": {},
     "output_type": "display_data"
    }
   ],
   "source": [
    "data3 = pd.DataFrame(res, columns=[\"epochs\",\"loss(mse)\",\"mae\"])\n",
    "display(data3.sort_values(\"loss(mse)\"))\n",
    "display(data3.sort_values(\"mae\"))"
   ]
  },
  {
   "cell_type": "code",
   "execution_count": 26,
   "metadata": {},
   "outputs": [],
   "source": [
    "epochs=27"
   ]
  },
  {
   "cell_type": "code",
   "execution_count": 27,
   "metadata": {},
   "outputs": [
    {
     "name": "stdout",
     "output_type": "stream",
     "text": [
      "layer,hidden,batch_size,epochs: 3 1150 17 27\n"
     ]
    }
   ],
   "source": [
    "print(\"layer,hidden,batch_size,epochs:\",layer,hidden,batch_size,epochs)"
   ]
  },
  {
   "cell_type": "markdown",
   "metadata": {},
   "source": [
    "# 過学習対策\n",
    "Dropout もしくは Batch Normalization"
   ]
  },
  {
   "cell_type": "code",
   "execution_count": 34,
   "metadata": {},
   "outputs": [
    {
     "name": "stdout",
     "output_type": "stream",
     "text": [
      "dropout\n",
      "Test loss: 19.70260353088379\n",
      "Test mae: 3.5049964427947997\n",
      "batch norm\n",
      "Test loss: 20.913279724121093\n",
      "Test mae: 3.642295789718628\n"
     ]
    }
   ],
   "source": [
    "model1 = set_model(n_hidden=hidden,n_layer=layer,drop_rate=0.2,print_summary=False)\n",
    "model2 = set_model_BN(n_hidden=hidden,n_layer=layer,print_summary=False)\n",
    "\n",
    "history1 =\\\n",
    "    model1.fit(x_train, y_train, verbose=0, validation_split=0.2,\n",
    "                epochs=epochs,batch_size=batch_size,shuffle=True)\n",
    "\n",
    "history2 =\\\n",
    "    model2.fit(x_train, y_train, verbose=0, validation_split=0.2,\n",
    "                epochs=epochs,batch_size=batch_size,shuffle=True)\n",
    "\n",
    "score1 = [model1.evaluate(x_test, y_test, verbose=0) for (x_test, y_test) in test_data]\n",
    "score2 = [model2.evaluate(x_test, y_test, verbose=0) for (x_test, y_test) in test_data]\n",
    "\n",
    "score1=np.mean(score1,axis=0)\n",
    "score2=np.mean(score2,axis=0)\n",
    "\n",
    "for name,score in [(\"dropout\",score1),(\"batch norm\",score2)]:\n",
    "    print(name)\n",
    "    print('Test loss:', score[0])\n",
    "    print('Test mae:', score[1])"
   ]
  },
  {
   "cell_type": "code",
   "execution_count": 57,
   "metadata": {},
   "outputs": [
    {
     "data": {
      "image/png": "[encoded data removed]",
      "text/plain": [
       "<Figure size 1400x500 with 2 Axes>"
      ]
     },
     "metadata": {},
     "output_type": "display_data"
    }
   ],
   "source": [
    "fig, axes = plt.subplots(ncols=2, figsize=(14, 5))\n",
    "df1 = pd.DataFrame(history1.history)[['loss', 'val_loss']]\n",
    "df2 = pd.DataFrame(history2.history)[['loss', 'val_loss']]\n",
    "df1.plot(ax=axes[0],xlabel=\"epochs\",ylabel=\"loss\",title=\"dropout(0.2)\")\n",
    "df2.plot(ax=axes[1],xlabel=\"epochs\",ylabel=\"loss\",title=\"Batch Normalization\")\n",
    "\n",
    "plt.show()"
   ]
  },
  {
   "cell_type": "markdown",
   "metadata": {},
   "source": [
    "( $\\Sigma, \\mu$ の乱数生成範囲 )"
   ]
  },
  {
   "cell_type": "code",
   "execution_count": 60,
   "metadata": {},
   "outputs": [],
   "source": [
    "Sig_lim=20;mu_lim=20\n",
    "a=gene_data(hist_gene_int,Sig_lim=Sig_lim,mu_lim=mu_lim,gene_size=10,multi=100)"
   ]
  },
  {
   "cell_type": "code",
   "execution_count": 62,
   "metadata": {},
   "outputs": [],
   "source": [
    "Sig_lim=30;mu_lim=20\n",
    "a=gene_data(hist_gene_int,Sig_lim=Sig_lim,mu_lim=mu_lim,gene_size=10,multi=100)"
   ]
  },
  {
   "cell_type": "code",
   "execution_count": 63,
   "metadata": {},
   "outputs": [
    {
     "name": "stderr",
     "output_type": "stream",
     "text": [
      "/mnt/c/file/github/fbnn/FBNN2d.py:15: RuntimeWarning: overflow encountered in exp\n",
      "  return np.exp(num)\n"
     ]
    },
    {
     "ename": "OverflowError",
     "evalue": "cannot convert float infinity to integer",
     "output_type": "error",
     "traceback": [
      "\u001b[0;31m---------------------------------------------------------------------------\u001b[0m",
      "\u001b[0;31mOverflowError\u001b[0m                             Traceback (most recent call last)",
      "Cell \u001b[0;32mIn[63], line 2\u001b[0m\n\u001b[1;32m      1\u001b[0m Sig_lim\u001b[38;5;241m=\u001b[39m\u001b[38;5;241m30\u001b[39m;mu_lim\u001b[38;5;241m=\u001b[39m\u001b[38;5;241m30\u001b[39m\n\u001b[0;32m----> 2\u001b[0m a\u001b[38;5;241m=\u001b[39m\u001b[43mgene_data\u001b[49m\u001b[43m(\u001b[49m\u001b[43mhist_gene_int\u001b[49m\u001b[43m,\u001b[49m\u001b[43mSig_lim\u001b[49m\u001b[38;5;241;43m=\u001b[39;49m\u001b[43mSig_lim\u001b[49m\u001b[43m,\u001b[49m\u001b[43mmu_lim\u001b[49m\u001b[38;5;241;43m=\u001b[39;49m\u001b[43mmu_lim\u001b[49m\u001b[43m,\u001b[49m\u001b[43mgene_size\u001b[49m\u001b[38;5;241;43m=\u001b[39;49m\u001b[38;5;241;43m10\u001b[39;49m\u001b[43m,\u001b[49m\u001b[43mmulti\u001b[49m\u001b[38;5;241;43m=\u001b[39;49m\u001b[38;5;241;43m100\u001b[39;49m\u001b[43m)\u001b[49m\n",
      "File \u001b[0;32m/mnt/c/file/github/fbnn/FBNN2d.py:46\u001b[0m, in \u001b[0;36mgene_data\u001b[0;34m(gene_func, Sig_lim, mu_lim, gene_size, multi)\u001b[0m\n\u001b[1;32m     44\u001b[0m mu\u001b[38;5;241m=\u001b[39m[random\u001b[38;5;241m.\u001b[39muniform(\u001b[38;5;241m-\u001b[39mmu_lim, mu_lim),random\u001b[38;5;241m.\u001b[39muniform(\u001b[38;5;241m-\u001b[39mmu_lim, mu_lim)]  \n\u001b[1;32m     45\u001b[0m \u001b[38;5;66;03m# mu=[random.uniform(0, mu_lim),random.uniform(0, mu_lim)]\u001b[39;00m\n\u001b[0;32m---> 46\u001b[0m myhist \u001b[38;5;241m=\u001b[39m \u001b[43mgene_func\u001b[49m\u001b[43m(\u001b[49m\u001b[43mSig\u001b[49m\u001b[43m,\u001b[49m\u001b[43mmu\u001b[49m\u001b[43m,\u001b[49m\u001b[43mmulti\u001b[49m\u001b[43m)\u001b[49m\n\u001b[1;32m     47\u001b[0m x_gene\u001b[38;5;241m.\u001b[39mappend(myhist)\n\u001b[1;32m     48\u001b[0m y_gene\u001b[38;5;241m.\u001b[39mappend(\u001b[38;5;28mlist\u001b[39m(Sig[\u001b[38;5;241m0\u001b[39m])\u001b[38;5;241m+\u001b[39m\u001b[38;5;28mlist\u001b[39m(Sig[\u001b[38;5;241m1\u001b[39m][\u001b[38;5;241m1\u001b[39m:\u001b[38;5;241m2\u001b[39m])\u001b[38;5;241m+\u001b[39m\u001b[38;5;28mlist\u001b[39m(mu))\n",
      "File \u001b[0;32m/mnt/c/file/github/fbnn/FBNN2d.py:24\u001b[0m, in \u001b[0;36mhist_gene_int\u001b[0;34m(Sigma, mu, multi)\u001b[0m\n\u001b[1;32m     22\u001b[0m \u001b[38;5;28;01mdef\u001b[39;00m \u001b[38;5;21mhist_gene_int\u001b[39m(Sigma,mu,multi\u001b[38;5;241m=\u001b[39m\u001b[38;5;241m100\u001b[39m):\n\u001b[1;32m     23\u001b[0m     hist\u001b[38;5;241m=\u001b[39m[f_Sigmu(rad\u001b[38;5;241m*\u001b[39m\u001b[38;5;241m0.1\u001b[39m\u001b[38;5;241m*\u001b[39mnp\u001b[38;5;241m.\u001b[39mpi,Sigma,mu) \u001b[38;5;28;01mfor\u001b[39;00m rad \u001b[38;5;129;01min\u001b[39;00m \u001b[38;5;28mrange\u001b[39m(\u001b[38;5;241m0\u001b[39m, \u001b[38;5;241m20\u001b[39m)]\n\u001b[0;32m---> 24\u001b[0m     hist2\u001b[38;5;241m=\u001b[39m[\u001b[38;5;28mint\u001b[39m(hist[i]\u001b[38;5;241m*\u001b[39mmulti) \u001b[38;5;28;01mfor\u001b[39;00m i \u001b[38;5;129;01min\u001b[39;00m \u001b[38;5;28mrange\u001b[39m(\u001b[38;5;28mlen\u001b[39m(hist))]\n\u001b[1;32m     25\u001b[0m     N\u001b[38;5;241m=\u001b[39m\u001b[38;5;28msum\u001b[39m(hist2)\n\u001b[1;32m     26\u001b[0m     \u001b[38;5;28;01mif\u001b[39;00m(N\u001b[38;5;241m!=\u001b[39m\u001b[38;5;241m0\u001b[39m): N\u001b[38;5;241m=\u001b[39m\u001b[38;5;241m1\u001b[39m\u001b[38;5;241m/\u001b[39mN\n",
      "File \u001b[0;32m/mnt/c/file/github/fbnn/FBNN2d.py:24\u001b[0m, in \u001b[0;36m<listcomp>\u001b[0;34m(.0)\u001b[0m\n\u001b[1;32m     22\u001b[0m \u001b[38;5;28;01mdef\u001b[39;00m \u001b[38;5;21mhist_gene_int\u001b[39m(Sigma,mu,multi\u001b[38;5;241m=\u001b[39m\u001b[38;5;241m100\u001b[39m):\n\u001b[1;32m     23\u001b[0m     hist\u001b[38;5;241m=\u001b[39m[f_Sigmu(rad\u001b[38;5;241m*\u001b[39m\u001b[38;5;241m0.1\u001b[39m\u001b[38;5;241m*\u001b[39mnp\u001b[38;5;241m.\u001b[39mpi,Sigma,mu) \u001b[38;5;28;01mfor\u001b[39;00m rad \u001b[38;5;129;01min\u001b[39;00m \u001b[38;5;28mrange\u001b[39m(\u001b[38;5;241m0\u001b[39m, \u001b[38;5;241m20\u001b[39m)]\n\u001b[0;32m---> 24\u001b[0m     hist2\u001b[38;5;241m=\u001b[39m[\u001b[38;5;28;43mint\u001b[39;49m\u001b[43m(\u001b[49m\u001b[43mhist\u001b[49m\u001b[43m[\u001b[49m\u001b[43mi\u001b[49m\u001b[43m]\u001b[49m\u001b[38;5;241;43m*\u001b[39;49m\u001b[43mmulti\u001b[49m\u001b[43m)\u001b[49m \u001b[38;5;28;01mfor\u001b[39;00m i \u001b[38;5;129;01min\u001b[39;00m \u001b[38;5;28mrange\u001b[39m(\u001b[38;5;28mlen\u001b[39m(hist))]\n\u001b[1;32m     25\u001b[0m     N\u001b[38;5;241m=\u001b[39m\u001b[38;5;28msum\u001b[39m(hist2)\n\u001b[1;32m     26\u001b[0m     \u001b[38;5;28;01mif\u001b[39;00m(N\u001b[38;5;241m!=\u001b[39m\u001b[38;5;241m0\u001b[39m): N\u001b[38;5;241m=\u001b[39m\u001b[38;5;241m1\u001b[39m\u001b[38;5;241m/\u001b[39mN\n",
      "\u001b[0;31mOverflowError\u001b[0m: cannot convert float infinity to integer"
     ]
    }
   ],
   "source": [
    "Sig_lim=30;mu_lim=30\n",
    "a=gene_data(hist_gene_int,Sig_lim=Sig_lim,mu_lim=mu_lim,gene_size=10,multi=100)"
   ]
  },
  {
   "cell_type": "code",
   "execution_count": 64,
   "metadata": {},
   "outputs": [],
   "source": [
    "Sig_lim=40;mu_lim=20\n",
    "a=gene_data(hist_gene_int,Sig_lim=Sig_lim,mu_lim=mu_lim,gene_size=10,multi=100)"
   ]
  },
  {
   "cell_type": "code",
   "execution_count": 66,
   "metadata": {},
   "outputs": [
    {
     "name": "stderr",
     "output_type": "stream",
     "text": [
      "/mnt/c/file/github/fbnn/FBNN2d.py:15: RuntimeWarning: overflow encountered in exp\n",
      "  return np.exp(num)\n"
     ]
    },
    {
     "ename": "OverflowError",
     "evalue": "cannot convert float infinity to integer",
     "output_type": "error",
     "traceback": [
      "\u001b[0;31m---------------------------------------------------------------------------\u001b[0m",
      "\u001b[0;31mOverflowError\u001b[0m                             Traceback (most recent call last)",
      "Cell \u001b[0;32mIn[66], line 2\u001b[0m\n\u001b[1;32m      1\u001b[0m Sig_lim\u001b[38;5;241m=\u001b[39m\u001b[38;5;241m50\u001b[39m;mu_lim\u001b[38;5;241m=\u001b[39m\u001b[38;5;241m20\u001b[39m\n\u001b[0;32m----> 2\u001b[0m a\u001b[38;5;241m=\u001b[39m\u001b[43mgene_data\u001b[49m\u001b[43m(\u001b[49m\u001b[43mhist_gene_int\u001b[49m\u001b[43m,\u001b[49m\u001b[43mSig_lim\u001b[49m\u001b[38;5;241;43m=\u001b[39;49m\u001b[43mSig_lim\u001b[49m\u001b[43m,\u001b[49m\u001b[43mmu_lim\u001b[49m\u001b[38;5;241;43m=\u001b[39;49m\u001b[43mmu_lim\u001b[49m\u001b[43m,\u001b[49m\u001b[43mgene_size\u001b[49m\u001b[38;5;241;43m=\u001b[39;49m\u001b[38;5;241;43m10\u001b[39;49m\u001b[43m,\u001b[49m\u001b[43mmulti\u001b[49m\u001b[38;5;241;43m=\u001b[39;49m\u001b[38;5;241;43m100\u001b[39;49m\u001b[43m)\u001b[49m\n",
      "File \u001b[0;32m/mnt/c/file/github/fbnn/FBNN2d.py:46\u001b[0m, in \u001b[0;36mgene_data\u001b[0;34m(gene_func, Sig_lim, mu_lim, gene_size, multi)\u001b[0m\n\u001b[1;32m     44\u001b[0m mu\u001b[38;5;241m=\u001b[39m[random\u001b[38;5;241m.\u001b[39muniform(\u001b[38;5;241m-\u001b[39mmu_lim, mu_lim),random\u001b[38;5;241m.\u001b[39muniform(\u001b[38;5;241m-\u001b[39mmu_lim, mu_lim)]  \n\u001b[1;32m     45\u001b[0m \u001b[38;5;66;03m# mu=[random.uniform(0, mu_lim),random.uniform(0, mu_lim)]\u001b[39;00m\n\u001b[0;32m---> 46\u001b[0m myhist \u001b[38;5;241m=\u001b[39m \u001b[43mgene_func\u001b[49m\u001b[43m(\u001b[49m\u001b[43mSig\u001b[49m\u001b[43m,\u001b[49m\u001b[43mmu\u001b[49m\u001b[43m,\u001b[49m\u001b[43mmulti\u001b[49m\u001b[43m)\u001b[49m\n\u001b[1;32m     47\u001b[0m x_gene\u001b[38;5;241m.\u001b[39mappend(myhist)\n\u001b[1;32m     48\u001b[0m y_gene\u001b[38;5;241m.\u001b[39mappend(\u001b[38;5;28mlist\u001b[39m(Sig[\u001b[38;5;241m0\u001b[39m])\u001b[38;5;241m+\u001b[39m\u001b[38;5;28mlist\u001b[39m(Sig[\u001b[38;5;241m1\u001b[39m][\u001b[38;5;241m1\u001b[39m:\u001b[38;5;241m2\u001b[39m])\u001b[38;5;241m+\u001b[39m\u001b[38;5;28mlist\u001b[39m(mu))\n",
      "File \u001b[0;32m/mnt/c/file/github/fbnn/FBNN2d.py:24\u001b[0m, in \u001b[0;36mhist_gene_int\u001b[0;34m(Sigma, mu, multi)\u001b[0m\n\u001b[1;32m     22\u001b[0m \u001b[38;5;28;01mdef\u001b[39;00m \u001b[38;5;21mhist_gene_int\u001b[39m(Sigma,mu,multi\u001b[38;5;241m=\u001b[39m\u001b[38;5;241m100\u001b[39m):\n\u001b[1;32m     23\u001b[0m     hist\u001b[38;5;241m=\u001b[39m[f_Sigmu(rad\u001b[38;5;241m*\u001b[39m\u001b[38;5;241m0.1\u001b[39m\u001b[38;5;241m*\u001b[39mnp\u001b[38;5;241m.\u001b[39mpi,Sigma,mu) \u001b[38;5;28;01mfor\u001b[39;00m rad \u001b[38;5;129;01min\u001b[39;00m \u001b[38;5;28mrange\u001b[39m(\u001b[38;5;241m0\u001b[39m, \u001b[38;5;241m20\u001b[39m)]\n\u001b[0;32m---> 24\u001b[0m     hist2\u001b[38;5;241m=\u001b[39m[\u001b[38;5;28mint\u001b[39m(hist[i]\u001b[38;5;241m*\u001b[39mmulti) \u001b[38;5;28;01mfor\u001b[39;00m i \u001b[38;5;129;01min\u001b[39;00m \u001b[38;5;28mrange\u001b[39m(\u001b[38;5;28mlen\u001b[39m(hist))]\n\u001b[1;32m     25\u001b[0m     N\u001b[38;5;241m=\u001b[39m\u001b[38;5;28msum\u001b[39m(hist2)\n\u001b[1;32m     26\u001b[0m     \u001b[38;5;28;01mif\u001b[39;00m(N\u001b[38;5;241m!=\u001b[39m\u001b[38;5;241m0\u001b[39m): N\u001b[38;5;241m=\u001b[39m\u001b[38;5;241m1\u001b[39m\u001b[38;5;241m/\u001b[39mN\n",
      "File \u001b[0;32m/mnt/c/file/github/fbnn/FBNN2d.py:24\u001b[0m, in \u001b[0;36m<listcomp>\u001b[0;34m(.0)\u001b[0m\n\u001b[1;32m     22\u001b[0m \u001b[38;5;28;01mdef\u001b[39;00m \u001b[38;5;21mhist_gene_int\u001b[39m(Sigma,mu,multi\u001b[38;5;241m=\u001b[39m\u001b[38;5;241m100\u001b[39m):\n\u001b[1;32m     23\u001b[0m     hist\u001b[38;5;241m=\u001b[39m[f_Sigmu(rad\u001b[38;5;241m*\u001b[39m\u001b[38;5;241m0.1\u001b[39m\u001b[38;5;241m*\u001b[39mnp\u001b[38;5;241m.\u001b[39mpi,Sigma,mu) \u001b[38;5;28;01mfor\u001b[39;00m rad \u001b[38;5;129;01min\u001b[39;00m \u001b[38;5;28mrange\u001b[39m(\u001b[38;5;241m0\u001b[39m, \u001b[38;5;241m20\u001b[39m)]\n\u001b[0;32m---> 24\u001b[0m     hist2\u001b[38;5;241m=\u001b[39m[\u001b[38;5;28;43mint\u001b[39;49m\u001b[43m(\u001b[49m\u001b[43mhist\u001b[49m\u001b[43m[\u001b[49m\u001b[43mi\u001b[49m\u001b[43m]\u001b[49m\u001b[38;5;241;43m*\u001b[39;49m\u001b[43mmulti\u001b[49m\u001b[43m)\u001b[49m \u001b[38;5;28;01mfor\u001b[39;00m i \u001b[38;5;129;01min\u001b[39;00m \u001b[38;5;28mrange\u001b[39m(\u001b[38;5;28mlen\u001b[39m(hist))]\n\u001b[1;32m     25\u001b[0m     N\u001b[38;5;241m=\u001b[39m\u001b[38;5;28msum\u001b[39m(hist2)\n\u001b[1;32m     26\u001b[0m     \u001b[38;5;28;01mif\u001b[39;00m(N\u001b[38;5;241m!=\u001b[39m\u001b[38;5;241m0\u001b[39m): N\u001b[38;5;241m=\u001b[39m\u001b[38;5;241m1\u001b[39m\u001b[38;5;241m/\u001b[39mN\n",
      "\u001b[0;31mOverflowError\u001b[0m: cannot convert float infinity to integer"
     ]
    }
   ],
   "source": [
    "Sig_lim=50;mu_lim=20\n",
    "a=gene_data(hist_gene_int,Sig_lim=Sig_lim,mu_lim=mu_lim,gene_size=10,multi=100)"
   ]
  },
  {
   "cell_type": "markdown",
   "metadata": {},
   "source": [
    "# true+int"
   ]
  },
  {
   "cell_type": "code",
   "execution_count": 67,
   "metadata": {},
   "outputs": [],
   "source": [
    "(x_train1,y_train1) = gene_data(hist_gene_int,Sig_lim=20,mu_lim=20,gene_size=500,multi=100)\n",
    "(x_train2,y_train2) = gene_data(hist_gene_true,Sig_lim=20,mu_lim=20,gene_size=500,multi=100)\n",
    "\n",
    "test_data=[gene_data(hist_gene_int,Sig_lim=20,mu_lim=20,gene_size=20,multi=100) for _ in range(5)]"
   ]
  },
  {
   "cell_type": "code",
   "execution_count": 68,
   "metadata": {},
   "outputs": [
    {
     "name": "stdout",
     "output_type": "stream",
     "text": [
      "int+int\n",
      "Test loss: 22.92617073059082\n",
      "Test mae: 3.6743194103240966\n",
      "true+int\n",
      "Test loss: 23.59635696411133\n",
      "Test mae: 3.7383182048797607\n"
     ]
    }
   ],
   "source": [
    "model1 = set_model(n_hidden=hidden,n_layer=layer,print_summary=False)\n",
    "model2 = set_model(n_hidden=hidden,n_layer=layer,print_summary=False)\n",
    "\n",
    "history1 =\\\n",
    "    model1.fit(x_train1, y_train1, verbose=0, validation_split=0.2,\n",
    "                epochs=epochs,batch_size=batch_size,shuffle=True)\n",
    "\n",
    "history2 =\\\n",
    "    model2.fit(x_train2, y_train2, verbose=0, validation_split=0.2,\n",
    "                epochs=epochs,batch_size=batch_size,shuffle=True)\n",
    "\n",
    "score1 = [model1.evaluate(x_test, y_test, verbose=0) for (x_test, y_test) in test_data]\n",
    "score2 = [model2.evaluate(x_test, y_test, verbose=0) for (x_test, y_test) in test_data]\n",
    "\n",
    "score1=np.mean(score1,axis=0)\n",
    "score2=np.mean(score2,axis=0)\n",
    "\n",
    "for name,score in [(\"int+int\",score1),(\"true+int\",score2)]:\n",
    "    print(name)\n",
    "    print('Test loss:', score[0])\n",
    "    print('Test mae:', score[1])"
   ]
  },
  {
   "cell_type": "code",
   "execution_count": 69,
   "metadata": {},
   "outputs": [
    {
     "data": {
      "image/png": "[encoded data removed]",
      "text/plain": [
       "<Figure size 1400x500 with 2 Axes>"
      ]
     },
     "metadata": {},
     "output_type": "display_data"
    }
   ],
   "source": [
    "fig, axes = plt.subplots(ncols=2, figsize=(14, 5))\n",
    "df1 = pd.DataFrame(history1.history)[['loss', 'val_loss']]\n",
    "df2 = pd.DataFrame(history2.history)[['loss', 'val_loss']]\n",
    "df1.plot(ax=axes[0],xlabel=\"epochs\",ylabel=\"loss\",title=\"int+int\")\n",
    "df2.plot(ax=axes[1],xlabel=\"epochs\",ylabel=\"loss\",title=\"true+int\")\n",
    "\n",
    "plt.show()"
   ]
  },
  {
   "cell_type": "markdown",
   "metadata": {},
   "source": [
    "# データの正規化\n",
    "gene_data_Normalize()"
   ]
  },
  {
   "cell_type": "code",
   "execution_count": 79,
   "metadata": {},
   "outputs": [],
   "source": [
    "(x_train1,y_train1) = gene_data(hist_gene_int,Sig_lim=20,mu_lim=20,gene_size=500,multi=100)\n",
    "test_data1=[gene_data(hist_gene_int,Sig_lim=20,mu_lim=20,gene_size=20,multi=100) for _ in range(5)]\n",
    "\n",
    "(x_train2,y_train2) = gene_data_Normalize(hist_gene_int,Sig_lim=20,mu_lim=20,gene_size=500,multi=100,center=np.pi)\n",
    "test_data2=[gene_data_Normalize(hist_gene_int,Sig_lim=20,mu_lim=20,gene_size=20,multi=100,center=np.pi) for _ in range(5)]"
   ]
  },
  {
   "cell_type": "code",
   "execution_count": 80,
   "metadata": {},
   "outputs": [
    {
     "name": "stdout",
     "output_type": "stream",
     "text": [
      "non Normalize\n",
      "Test loss: 24.211975860595704\n",
      "Test mae: 3.863871955871582\n",
      "Normalize\n",
      "Test loss: 19.182588005065917\n",
      "Test mae: 3.3477777004241944\n"
     ]
    }
   ],
   "source": [
    "model1 = set_model(n_hidden=hidden,n_layer=layer,print_summary=False)\n",
    "model2 = set_model(n_hidden=hidden,n_layer=layer,print_summary=False)\n",
    "\n",
    "history1 =\\\n",
    "    model1.fit(x_train1, y_train1, verbose=0, validation_split=0.2,\n",
    "                epochs=epochs,batch_size=batch_size,shuffle=True)\n",
    "\n",
    "history2 =\\\n",
    "    model2.fit(x_train2, y_train2, verbose=0, validation_split=0.2,\n",
    "                epochs=epochs,batch_size=batch_size,shuffle=True)\n",
    "\n",
    "score1 = [model1.evaluate(x_test, y_test, verbose=0) for (x_test, y_test) in test_data1]\n",
    "score2 = [model2.evaluate(x_test, y_test, verbose=0) for (x_test, y_test) in test_data2]\n",
    "\n",
    "score1=np.mean(score1,axis=0)\n",
    "score2=np.mean(score2,axis=0)\n",
    "\n",
    "for name,score in [(\"non Normalize\",score1),(\"Normalize\",score2)]:\n",
    "    print(name)\n",
    "    print('Test loss:', score[0])\n",
    "    print('Test mae:', score[1])"
   ]
  },
  {
   "cell_type": "code",
   "execution_count": 82,
   "metadata": {},
   "outputs": [
    {
     "data": {
      "image/png": "[encoded data removed]",
      "text/plain": [
       "<Figure size 1400x500 with 2 Axes>"
      ]
     },
     "metadata": {},
     "output_type": "display_data"
    }
   ],
   "source": [
    "fig, axes = plt.subplots(ncols=2, figsize=(14, 5))\n",
    "df1 = pd.DataFrame(history1.history)[['loss', 'val_loss']]\n",
    "df2 = pd.DataFrame(history2.history)[['loss', 'val_loss']]\n",
    "df1.plot(ax=axes[0],xlabel=\"epochs\",ylabel=\"loss\",title=\"non Normalize\")\n",
    "df2.plot(ax=axes[1],xlabel=\"epochs\",ylabel=\"loss\",title=\"Normalize(center=pi)\")\n",
    "\n",
    "plt.show()"
   ]
  },
  {
   "cell_type": "markdown",
   "metadata": {},
   "source": [
    "# LeakyReLU"
   ]
  },
  {
   "cell_type": "code",
   "execution_count": 83,
   "metadata": {},
   "outputs": [],
   "source": [
    "(x_train,y_train) = gene_data_Normalize(hist_gene_int,Sig_lim=20,mu_lim=20,gene_size=500,multi=100,center=np.pi)\n",
    "test_data = [gene_data_Normalize(hist_gene_int,Sig_lim=20,mu_lim=20,gene_size=20,multi=100,center=np.pi) for _ in range(5)]"
   ]
  },
  {
   "cell_type": "code",
   "execution_count": 91,
   "metadata": {},
   "outputs": [
    {
     "name": "stdout",
     "output_type": "stream",
     "text": [
      "ReLU\n",
      "Test loss: 18.921332168579102\n",
      "Test mae: 3.4331130981445312\n",
      "LeakyReLU\n",
      "Test loss: 18.25060043334961\n",
      "Test mae: 3.3449470520019533\n"
     ]
    }
   ],
   "source": [
    "model1 = set_model(n_hidden=hidden,n_layer=layer,print_summary=False)\n",
    "model2 =\\\n",
    "    set_model_LeakyReLU(n_hidden=hidden,n_layer=layer,print_summary=False,leaky_alpha=0.05)\n",
    "\n",
    "history1 =\\\n",
    "    model1.fit(x_train, y_train, verbose=0, validation_split=0.2,\n",
    "                epochs=epochs,batch_size=batch_size,shuffle=True)\n",
    "\n",
    "history2 =\\\n",
    "    model2.fit(x_train, y_train, verbose=0, validation_split=0.2,\n",
    "                epochs=epochs,batch_size=batch_size,shuffle=True)\n",
    "\n",
    "score1 = [model1.evaluate(x_test, y_test, verbose=0) for (x_test, y_test) in test_data]\n",
    "score2 = [model2.evaluate(x_test, y_test, verbose=0) for (x_test, y_test) in test_data]\n",
    "\n",
    "score1=np.mean(score1,axis=0)\n",
    "score2=np.mean(score2,axis=0)\n",
    "\n",
    "for name,score in [(\"ReLU\",score1),(\"LeakyReLU\",score2)]:\n",
    "    print(name)\n",
    "    print('Test loss:', score[0])\n",
    "    print('Test mae:', score[1])"
   ]
  },
  {
   "cell_type": "code",
   "execution_count": 92,
   "metadata": {},
   "outputs": [
    {
     "data": {
      "image/png": "[encoded data removed]",
      "text/plain": [
       "<Figure size 1400x500 with 2 Axes>"
      ]
     },
     "metadata": {},
     "output_type": "display_data"
    }
   ],
   "source": [
    "fig, axes = plt.subplots(ncols=2, figsize=(14, 5))\n",
    "df1 = pd.DataFrame(history1.history)[['loss', 'val_loss']]\n",
    "df2 = pd.DataFrame(history2.history)[['loss', 'val_loss']]\n",
    "df1.plot(ax=axes[0],xlabel=\"epochs\",ylabel=\"loss\",title=\"ReLU\")\n",
    "df2.plot(ax=axes[1],xlabel=\"epochs\",ylabel=\"loss\",title=\"LeakyReLU\")\n",
    "\n",
    "plt.show()"
   ]
  },
  {
   "cell_type": "code",
   "execution_count": 98,
   "metadata": {},
   "outputs": [
    {
     "name": "stdout",
     "output_type": "stream",
     "text": [
      "leaky_alpha=0.00: Average loss, Average mae: 17.701184, 3.187867\n",
      "leaky_alpha=0.01: Average loss, Average mae: 18.031155, 3.226415\n",
      "leaky_alpha=0.05: Average loss, Average mae: 18.906626, 3.361338\n",
      "leaky_alpha=0.10: Average loss, Average mae: 19.090397, 3.319327\n",
      "leaky_alpha=0.30: Average loss, Average mae: 19.187673, 3.394402\n",
      "leaky_alpha=0.60: Average loss, Average mae: 18.430193, 3.292303\n"
     ]
    }
   ],
   "source": [
    "(x_train,y_train) = gene_data_Normalize(hist_gene_int,Sig_lim=20,mu_lim=20,gene_size=500,multi=100,center=np.pi)\n",
    "test_data = [gene_data_Normalize(hist_gene_int,Sig_lim=20,mu_lim=20,gene_size=20,multi=100,center=np.pi) for _ in range(10)]\n",
    "\n",
    "for leaky_alpha in [0.,0.01,0.05,0.1,0.3,0.6]:\n",
    "    model =set_model_LeakyReLU(n_hidden=hidden,n_layer=layer,print_summary=False,leaky_alpha=leaky_alpha)\n",
    "\n",
    "    model.fit(x_train, y_train, verbose=0, validation_split=0.2,\n",
    "                epochs=epochs,batch_size=batch_size,shuffle=True)\n",
    "\n",
    "    scores = [model.evaluate(x_test, y_test, verbose=0) for (x_test, y_test) in test_data]\n",
    "    score = np.mean(scores,axis=0)\n",
    "\n",
    "    print(\"leaky_alpha=%.2f: Average loss, Average mae: %f, %f\" % (leaky_alpha, score[0], score[1]))"
   ]
  },
  {
   "cell_type": "code",
   "execution_count": 99,
   "metadata": {},
   "outputs": [
    {
     "name": "stdout",
     "output_type": "stream",
     "text": [
      "\n",
      "layer: 1 \n",
      "hidden: 50 100 150 200 250 300 350 400 450 500 550 600 650 700 750 800 850 900 950 1000 1050 1100 1150 1200 1250 1300 1350 1400 1450 1500 \n",
      "layer: 2 \n",
      "hidden: 50 100 150 200 250 300 350 400 450 500 550 600 650 700 750 800 850 900 950 1000 1050 1100 1150 1200 1250 1300 1350 1400 1450 1500 \n",
      "layer: 3 \n",
      "hidden: 50 100 150 200 250 300 350 400 450 500 550 600 650 700 750 800 850 900 950 1000 1050 1100 1150 1200 1250 1300 1350 1400 1450 1500 \n",
      "layer: 4 \n",
      "hidden: 50 100 150 200 250 300 350 400 450 500 550 600 650 700 750 800 850 900 950 1000 1050 1100 1150 1200 1250 1300 1350 1400 1450 1500 \n",
      "layer: 5 \n",
      "hidden: 50 100 150 200 250 300 350 400 450 500 550 600 650 700 750 800 850 900 950 1000 1050 1100 1150 1200 1250 1300 1350 1400 1450 1500 \n",
      "layer: 6 \n",
      "hidden: 50 100 150 200 250 300 350 400 450 500 550 600 650 700 750 800 850 900 950 1000 1050 1100 1150 1200 1250 1300 1350 1400 1450 1500 \n",
      "layer: 7 \n",
      "hidden: 50 100 150 200 250 300 350 400 450 500 550 600 650 700 750 800 850 900 950 1000 1050 1100 1150 1200 1250 1300 1350 1400 1450 1500 \n",
      "layer: 8 \n",
      "hidden: 50 100 150 200 250 300 350 400 450 500 550 600 650 700 750 800 850 900 950 1000 1050 1100 1150 1200 1250 1300 1350 1400 1450 1500 \n",
      "layer: 9 \n",
      "hidden: 50 100 150 200 250 300 350 400 450 500 550 600 650 700 750 800 850 900 950 1000 1050 1100 1150 1200 1250 1300 1350 1400 1450 1500 \n",
      "layer: 10 \n",
      "hidden: 50 100 150 200 250 300 350 400 450 500 550 600 650 700 750 800 850 900 950 1000 1050 1100 1150 1200 1250 1300 1350 1400 1450 1500 "
     ]
    }
   ],
   "source": [
    "layers=range(1,11)\n",
    "hiddens=range(50,1501,50)\n",
    "res=[]\n",
    "for layer in layers:\n",
    "    print('\\nlayer:',layer,'\\nhidden:',end=\" \")\n",
    "    for hidden in hiddens:\n",
    "        model=set_model_LeakyReLU(n_hidden=hidden,n_layer=layer,print_summary=False,leaky_alpha=0.01)\n",
    "        model.fit(x_train, y_train, verbose=0, epochs=10, shuffle=True, validation_split=0.2\n",
    "                    # ,batch_size=30,validation_data=(x_test, y_test)\n",
    "                    )\n",
    "        scores = [model.evaluate(x_test, y_test, verbose=0) for (x_test, y_test) in test_data]\n",
    "        print(hidden, end=\" \")\n",
    "        score = np.mean(scores,axis=0)\n",
    "        res.append([layer,hidden,score[0],score[1]])"
   ]
  },
  {
   "cell_type": "code",
   "execution_count": 100,
   "metadata": {},
   "outputs": [
    {
     "data": {
      "text/html": [
       "<div>\n",
       "<style scoped>\n",
       "    .dataframe tbody tr th:only-of-type {\n",
       "        vertical-align: middle;\n",
       "    }\n",
       "\n",
       "    .dataframe tbody tr th {\n",
       "        vertical-align: top;\n",
       "    }\n",
       "\n",
       "    .dataframe thead th {\n",
       "        text-align: right;\n",
       "    }\n",
       "</style>\n",
       "<table border=\"1\" class=\"dataframe\">\n",
       "  <thead>\n",
       "    <tr style=\"text-align: right;\">\n",
       "      <th></th>\n",
       "      <th>layer</th>\n",
       "      <th>hidden</th>\n",
       "      <th>loss(mse)</th>\n",
       "      <th>mae</th>\n",
       "    </tr>\n",
       "  </thead>\n",
       "  <tbody>\n",
       "    <tr>\n",
       "      <th>168</th>\n",
       "      <td>6</td>\n",
       "      <td>950</td>\n",
       "      <td>18.307375</td>\n",
       "      <td>3.285318</td>\n",
       "    </tr>\n",
       "    <tr>\n",
       "      <th>85</th>\n",
       "      <td>3</td>\n",
       "      <td>1300</td>\n",
       "      <td>18.320910</td>\n",
       "      <td>3.281757</td>\n",
       "    </tr>\n",
       "    <tr>\n",
       "      <th>143</th>\n",
       "      <td>5</td>\n",
       "      <td>1200</td>\n",
       "      <td>18.429147</td>\n",
       "      <td>3.291539</td>\n",
       "    </tr>\n",
       "    <tr>\n",
       "      <th>142</th>\n",
       "      <td>5</td>\n",
       "      <td>1150</td>\n",
       "      <td>18.464969</td>\n",
       "      <td>3.270613</td>\n",
       "    </tr>\n",
       "    <tr>\n",
       "      <th>137</th>\n",
       "      <td>5</td>\n",
       "      <td>900</td>\n",
       "      <td>18.468279</td>\n",
       "      <td>3.281713</td>\n",
       "    </tr>\n",
       "    <tr>\n",
       "      <th>...</th>\n",
       "      <td>...</td>\n",
       "      <td>...</td>\n",
       "      <td>...</td>\n",
       "      <td>...</td>\n",
       "    </tr>\n",
       "    <tr>\n",
       "      <th>4</th>\n",
       "      <td>1</td>\n",
       "      <td>250</td>\n",
       "      <td>34.609178</td>\n",
       "      <td>4.452371</td>\n",
       "    </tr>\n",
       "    <tr>\n",
       "      <th>3</th>\n",
       "      <td>1</td>\n",
       "      <td>200</td>\n",
       "      <td>39.320512</td>\n",
       "      <td>4.714592</td>\n",
       "    </tr>\n",
       "    <tr>\n",
       "      <th>2</th>\n",
       "      <td>1</td>\n",
       "      <td>150</td>\n",
       "      <td>48.815315</td>\n",
       "      <td>5.233743</td>\n",
       "    </tr>\n",
       "    <tr>\n",
       "      <th>1</th>\n",
       "      <td>1</td>\n",
       "      <td>100</td>\n",
       "      <td>60.889412</td>\n",
       "      <td>5.842896</td>\n",
       "    </tr>\n",
       "    <tr>\n",
       "      <th>0</th>\n",
       "      <td>1</td>\n",
       "      <td>50</td>\n",
       "      <td>81.828580</td>\n",
       "      <td>6.889025</td>\n",
       "    </tr>\n",
       "  </tbody>\n",
       "</table>\n",
       "<p>300 rows × 4 columns</p>\n",
       "</div>"
      ],
      "text/plain": [
       "     layer  hidden  loss(mse)       mae\n",
       "168      6     950  18.307375  3.285318\n",
       "85       3    1300  18.320910  3.281757\n",
       "143      5    1200  18.429147  3.291539\n",
       "142      5    1150  18.464969  3.270613\n",
       "137      5     900  18.468279  3.281713\n",
       "..     ...     ...        ...       ...\n",
       "4        1     250  34.609178  4.452371\n",
       "3        1     200  39.320512  4.714592\n",
       "2        1     150  48.815315  5.233743\n",
       "1        1     100  60.889412  5.842896\n",
       "0        1      50  81.828580  6.889025\n",
       "\n",
       "[300 rows x 4 columns]"
      ]
     },
     "metadata": {},
     "output_type": "display_data"
    },
    {
     "data": {
      "text/html": [
       "<div>\n",
       "<style scoped>\n",
       "    .dataframe tbody tr th:only-of-type {\n",
       "        vertical-align: middle;\n",
       "    }\n",
       "\n",
       "    .dataframe tbody tr th {\n",
       "        vertical-align: top;\n",
       "    }\n",
       "\n",
       "    .dataframe thead th {\n",
       "        text-align: right;\n",
       "    }\n",
       "</style>\n",
       "<table border=\"1\" class=\"dataframe\">\n",
       "  <thead>\n",
       "    <tr style=\"text-align: right;\">\n",
       "      <th></th>\n",
       "      <th>layer</th>\n",
       "      <th>hidden</th>\n",
       "      <th>loss(mse)</th>\n",
       "      <th>mae</th>\n",
       "    </tr>\n",
       "  </thead>\n",
       "  <tbody>\n",
       "    <tr>\n",
       "      <th>115</th>\n",
       "      <td>4</td>\n",
       "      <td>1300</td>\n",
       "      <td>18.652024</td>\n",
       "      <td>3.266481</td>\n",
       "    </tr>\n",
       "    <tr>\n",
       "      <th>142</th>\n",
       "      <td>5</td>\n",
       "      <td>1150</td>\n",
       "      <td>18.464969</td>\n",
       "      <td>3.270613</td>\n",
       "    </tr>\n",
       "    <tr>\n",
       "      <th>226</th>\n",
       "      <td>8</td>\n",
       "      <td>850</td>\n",
       "      <td>18.528139</td>\n",
       "      <td>3.274125</td>\n",
       "    </tr>\n",
       "    <tr>\n",
       "      <th>267</th>\n",
       "      <td>9</td>\n",
       "      <td>1400</td>\n",
       "      <td>18.759370</td>\n",
       "      <td>3.278351</td>\n",
       "    </tr>\n",
       "    <tr>\n",
       "      <th>176</th>\n",
       "      <td>6</td>\n",
       "      <td>1350</td>\n",
       "      <td>18.503495</td>\n",
       "      <td>3.279906</td>\n",
       "    </tr>\n",
       "    <tr>\n",
       "      <th>...</th>\n",
       "      <td>...</td>\n",
       "      <td>...</td>\n",
       "      <td>...</td>\n",
       "      <td>...</td>\n",
       "    </tr>\n",
       "    <tr>\n",
       "      <th>4</th>\n",
       "      <td>1</td>\n",
       "      <td>250</td>\n",
       "      <td>34.609178</td>\n",
       "      <td>4.452371</td>\n",
       "    </tr>\n",
       "    <tr>\n",
       "      <th>3</th>\n",
       "      <td>1</td>\n",
       "      <td>200</td>\n",
       "      <td>39.320512</td>\n",
       "      <td>4.714592</td>\n",
       "    </tr>\n",
       "    <tr>\n",
       "      <th>2</th>\n",
       "      <td>1</td>\n",
       "      <td>150</td>\n",
       "      <td>48.815315</td>\n",
       "      <td>5.233743</td>\n",
       "    </tr>\n",
       "    <tr>\n",
       "      <th>1</th>\n",
       "      <td>1</td>\n",
       "      <td>100</td>\n",
       "      <td>60.889412</td>\n",
       "      <td>5.842896</td>\n",
       "    </tr>\n",
       "    <tr>\n",
       "      <th>0</th>\n",
       "      <td>1</td>\n",
       "      <td>50</td>\n",
       "      <td>81.828580</td>\n",
       "      <td>6.889025</td>\n",
       "    </tr>\n",
       "  </tbody>\n",
       "</table>\n",
       "<p>300 rows × 4 columns</p>\n",
       "</div>"
      ],
      "text/plain": [
       "     layer  hidden  loss(mse)       mae\n",
       "115      4    1300  18.652024  3.266481\n",
       "142      5    1150  18.464969  3.270613\n",
       "226      8     850  18.528139  3.274125\n",
       "267      9    1400  18.759370  3.278351\n",
       "176      6    1350  18.503495  3.279906\n",
       "..     ...     ...        ...       ...\n",
       "4        1     250  34.609178  4.452371\n",
       "3        1     200  39.320512  4.714592\n",
       "2        1     150  48.815315  5.233743\n",
       "1        1     100  60.889412  5.842896\n",
       "0        1      50  81.828580  6.889025\n",
       "\n",
       "[300 rows x 4 columns]"
      ]
     },
     "metadata": {},
     "output_type": "display_data"
    }
   ],
   "source": [
    "data4 = pd.DataFrame(res, columns=[\"layer\",\"hidden\",\"loss(mse)\",\"mae\"])\n",
    "display(data4.sort_values(\"loss(mse)\"))\n",
    "display(data4.sort_values(\"mae\"))"
   ]
  }
 ],
 "metadata": {
  "kernelspec": {
   "display_name": "Python 3",
   "language": "python",
   "name": "python3"
  },
  "language_info": {
   "codemirror_mode": {
    "name": "ipython",
    "version": 3
   },
   "file_extension": ".py",
   "mimetype": "text/x-python",
   "name": "python",
   "nbconvert_exporter": "python",
   "pygments_lexer": "ipython3",
   "version": "3.8.10"
  }
 },
 "nbformat": 4,
 "nbformat_minor": 2
}
